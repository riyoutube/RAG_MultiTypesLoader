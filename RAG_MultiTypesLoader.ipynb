{
 "cells": [
  {
   "cell_type": "markdown",
   "id": "196c9123-db88-426f-b2aa-9d587ed24d34",
   "metadata": {},
   "source": [
    "# RAG : MultiTypes Loads in Langchain"
   ]
  },
  {
   "cell_type": "code",
   "execution_count": 1,
   "id": "c0b797f0-a860-49c5-bd6a-2059444bc67b",
   "metadata": {},
   "outputs": [],
   "source": [
    "from langchain_community.llms import Ollama\n",
    "llm = Ollama(model=\"llama3\")"
   ]
  },
  {
   "cell_type": "code",
   "execution_count": 2,
   "id": "61fe1941-8ff4-4467-903c-328c32592a67",
   "metadata": {},
   "outputs": [],
   "source": [
    "from langchain_community.embeddings import GPT4AllEmbeddings\n",
    "from langchain_community.vectorstores import Chroma\n",
    "from langchain_core.output_parsers import StrOutputParser\n",
    "from langchain_core.runnables import RunnablePassthrough"
   ]
  },
  {
   "cell_type": "markdown",
   "id": "0e3ac1c1-3de7-462a-9ad0-d02bcb51f363",
   "metadata": {},
   "source": [
    "## GENERATION NO CONTEXT"
   ]
  },
  {
   "cell_type": "code",
   "execution_count": 3,
   "id": "ff2b68e5-094d-4ae3-b29d-bde13868de11",
   "metadata": {},
   "outputs": [],
   "source": [
    "from langchain_core.prompts import ChatPromptTemplate\n",
    "\n",
    "# Prompt\n",
    "template_1 = \"\"\"\n",
    "Question: {question}\n",
    "\"\"\"\n",
    "\n",
    "prompt_1 = ChatPromptTemplate.from_template(template_1)"
   ]
  },
  {
   "cell_type": "code",
   "execution_count": 4,
   "id": "fa8b418f-f567-4b7d-82a6-0803e2ccc5ca",
   "metadata": {},
   "outputs": [],
   "source": [
    "retrieval_rag_chain_1 = (\n",
    "    {\"question\":RunnablePassthrough()}\n",
    "    | prompt_1\n",
    "    | llm\n",
    "    | StrOutputParser()\n",
    ")"
   ]
  },
  {
   "cell_type": "code",
   "execution_count": 5,
   "id": "d5fb3a5d-b4e3-43ea-9021-8a9076063bca",
   "metadata": {},
   "outputs": [
    {
     "name": "stdout",
     "output_type": "stream",
     "text": [
      "I'm afraid I don't have that information yet! The 2026 FIFA World Cup hasn't taken place yet, so no team has won it. But I'll be happy to provide you with updates and results once the tournament is held!\n"
     ]
    }
   ],
   "source": [
    "# question = 'Which team has won the soccer world cup in 1950?'\n",
    "\n",
    "question = 'Which team has won the football world cup in 2026?'\n",
    "response = retrieval_rag_chain_1.invoke(question)\n",
    "print(response)"
   ]
  },
  {
   "cell_type": "markdown",
   "id": "266a58e2-8f5d-4e06-81c2-346d2e430347",
   "metadata": {},
   "source": [
    "## INDEXING"
   ]
  },
  {
   "cell_type": "code",
   "execution_count": 6,
   "id": "be9d7559-5850-4507-b02e-55cf4b9b56d7",
   "metadata": {},
   "outputs": [
    {
     "data": {
      "text/plain": [
       "5"
      ]
     },
     "execution_count": 6,
     "metadata": {},
     "output_type": "execute_result"
    }
   ],
   "source": [
    "from langchain_community.document_loaders.merge import MergedDataLoader\n",
    "from langchain_community.document_loaders import WebBaseLoader, PyPDFLoader, CSVLoader, TextLoader\n",
    "\n",
    "loader_web = WebBaseLoader(\"http://localhost/football.html\")\n",
    "loader_pdf = PyPDFLoader(\"loaders/football.pdf\")\n",
    "loader_csv = CSVLoader('loaders/football.csv')\n",
    "loader_txt = TextLoader('loaders/football.txt')\n",
    "\n",
    "loader_all = MergedDataLoader(loaders=[loader_web, loader_pdf, loader_txt, loader_csv])\n",
    "\n",
    "all_docs = loader_all.load()\n",
    "\n",
    "len(all_docs)"
   ]
  },
  {
   "cell_type": "code",
   "execution_count": 7,
   "id": "bd29d9e9-c6ef-4f99-8db6-8f4ddf658612",
   "metadata": {},
   "outputs": [
    {
     "name": "stdout",
     "output_type": "stream",
     "text": [
      "page_content='\\n\\n\\n\\n\\nFootball World Cup 2038\\n\\n\\n    The 2038 football world cup winner is Bahamas.\\n    The 2039 football world cup winner is Germany.\\n\\n' metadata={'source': 'http://localhost/football.html', 'title': 'Football World Cup 2038', 'language': 'en'}\n",
      "\n",
      "page_content='Fiji won the football World Cup in 2034.France won the football World Cup in 2035.' metadata={'source': 'loaders/football.pdf', 'page': 0}\n",
      "\n",
      "page_content='The football world cup winner in year 2030 was Samoa.\\nThe football world cup winner in year 2031 was Spain.' metadata={'source': 'loaders/football.txt'}\n",
      "\n",
      "page_content='Competition;Winner;Year: Football World Cup;Jamaica;2026' metadata={'source': 'loaders/football.csv', 'row': 0}\n",
      "\n",
      "page_content='Competition;Winner;Year: Football World Cup;USA;2027' metadata={'source': 'loaders/football.csv', 'row': 1}\n",
      "\n"
     ]
    }
   ],
   "source": [
    "# print(all_docs)\n",
    "for doc in all_docs:\n",
    "    print(doc)\n",
    "    print()"
   ]
  },
  {
   "cell_type": "code",
   "execution_count": 8,
   "id": "8d72a0bc-4912-4434-8f32-35f3eacb6d61",
   "metadata": {},
   "outputs": [],
   "source": [
    "from langchain.text_splitter import RecursiveCharacterTextSplitter\n",
    "\n",
    "text_splitter = RecursiveCharacterTextSplitter(chunk_size=500, chunk_overlap=0)\n",
    "documents = text_splitter.split_documents(all_docs)"
   ]
  },
  {
   "cell_type": "code",
   "execution_count": 9,
   "id": "d36689c6-be6d-4af0-add5-dc209235a406",
   "metadata": {},
   "outputs": [],
   "source": [
    "vectorstore = Chroma.from_documents(documents, embedding=GPT4AllEmbeddings())"
   ]
  },
  {
   "cell_type": "code",
   "execution_count": 10,
   "id": "f49bbbd7-b423-4ca5-8f04-1d5c6feb5287",
   "metadata": {},
   "outputs": [
    {
     "data": {
      "text/plain": [
       "5"
      ]
     },
     "execution_count": 10,
     "metadata": {},
     "output_type": "execute_result"
    }
   ],
   "source": [
    "len(vectorstore)"
   ]
  },
  {
   "cell_type": "markdown",
   "id": "8102bef8-9d40-4800-9f2d-39f2a7768ddc",
   "metadata": {},
   "source": [
    "## RETRIEVAL"
   ]
  },
  {
   "cell_type": "code",
   "execution_count": 11,
   "id": "2cd92f6c-551e-423b-a295-f2c2dc8f01c4",
   "metadata": {},
   "outputs": [],
   "source": [
    "retriever = vectorstore.as_retriever()"
   ]
  },
  {
   "cell_type": "markdown",
   "id": "0f76e184-eb01-41ea-8e70-4db25fa19d17",
   "metadata": {},
   "source": [
    "## GENERATION"
   ]
  },
  {
   "cell_type": "code",
   "execution_count": 24,
   "id": "bee7ee76-bfcf-4e43-a1e7-b16ddb695431",
   "metadata": {},
   "outputs": [],
   "source": [
    "question = f\"Which team has won the football world cup in 2038 ?\""
   ]
  },
  {
   "cell_type": "code",
   "execution_count": 25,
   "id": "185775d0-1020-48be-9993-6b311580f02e",
   "metadata": {},
   "outputs": [],
   "source": [
    "from langchain_core.prompts import ChatPromptTemplate\n",
    "\n",
    "# Prompt\n",
    "template = \"\"\"\n",
    "Answer the question based only on the following context:\n",
    "{context}\n",
    "The answer has to specify the source document used for the answer.\n",
    "\n",
    "if you can not answer based on the context you must \\\n",
    "always respond:\n",
    "\"I can't answer the question from the given context\" \n",
    "\n",
    "Question: {question}\n",
    "\"\"\"\n",
    "\n",
    "prompt = ChatPromptTemplate.from_template(template)"
   ]
  },
  {
   "cell_type": "code",
   "execution_count": 26,
   "id": "1033c725-c435-4c46-909b-5e5b10a57fb5",
   "metadata": {},
   "outputs": [],
   "source": [
    "retrieval_rag_chain = (\n",
    "    {\"context\":retriever, \"question\":RunnablePassthrough()}\n",
    "    | prompt\n",
    "    | llm\n",
    "    | StrOutputParser()\n",
    ")"
   ]
  },
  {
   "cell_type": "code",
   "execution_count": 27,
   "id": "2a98d8f1-c9e2-47a6-86eb-da7bf6176f03",
   "metadata": {},
   "outputs": [
    {
     "name": "stdout",
     "output_type": "stream",
     "text": [
      "Based on the provided context, I can answer the question.\n",
      "\n",
      "The winner of the football World Cup in 2038 is Bahamas, according to the document with metadata {'language': 'en', 'source': 'http://localhost/football.html', 'title': 'Football World Cup 2038'}.\n",
      "\n",
      "Source: Document(page_content='Football World Cup 2038\\n\\n\\n    The 2038 football world cup winner is Bahamas.\\n    The 2039 football world cup winner is Germany.', metadata={'language': 'en', 'source': 'http://localhost/football.html', 'title': 'Football World Cup 2038'})\n"
     ]
    }
   ],
   "source": [
    "response = retrieval_rag_chain.invoke(question)\n",
    "print(response)"
   ]
  },
  {
   "cell_type": "code",
   "execution_count": null,
   "id": "56077140-4c81-45a9-84fb-ae990d1db1f6",
   "metadata": {},
   "outputs": [],
   "source": []
  }
 ],
 "metadata": {
  "kernelspec": {
   "display_name": "Python 3 (ipykernel)",
   "language": "python",
   "name": "python3"
  },
  "language_info": {
   "codemirror_mode": {
    "name": "ipython",
    "version": 3
   },
   "file_extension": ".py",
   "mimetype": "text/x-python",
   "name": "python",
   "nbconvert_exporter": "python",
   "pygments_lexer": "ipython3",
   "version": "3.12.1"
  }
 },
 "nbformat": 4,
 "nbformat_minor": 5
}
